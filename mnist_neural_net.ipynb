{
 "cells": [
  {
   "cell_type": "code",
   "execution_count": 17,
   "id": "2b0bb256",
   "metadata": {},
   "outputs": [],
   "source": [
    "import torch\n",
    "\n",
    "import torch.nn as nn\n",
    "import torch.nn.functional as F\n",
    "\n",
    "from torch.utils.data import DataLoader\n",
    "from torchvision.transforms import ToTensor\n",
    "from torchvision import transforms\n",
    "from torchvision import datasets\n",
    "from torch.utils.data import random_split\n",
    "from sklearn.metrics import classification_report\n",
    "\n",
    "import matplotlib\n",
    "#matplotlib.use(\"Agg\")\n",
    "import matplotlib.pyplot as plt\n",
    "\n",
    "import numpy as np"
   ]
  },
  {
   "cell_type": "code",
   "execution_count": 18,
   "id": "813dcbf2",
   "metadata": {},
   "outputs": [
    {
     "name": "stdout",
     "output_type": "stream",
     "text": [
      "NeuralNetwork(\n",
      "  (conv_layer1): Sequential(\n",
      "    (0): Conv2d(1, 32, kernel_size=(3, 3), stride=(1, 1))\n",
      "    (1): BatchNorm2d(32, eps=1e-05, momentum=0.1, affine=True, track_running_stats=True)\n",
      "    (2): ReLU(inplace=True)\n",
      "    (3): Conv2d(32, 64, kernel_size=(3, 3), stride=(1, 1))\n",
      "    (4): ReLU(inplace=True)\n",
      "    (5): MaxPool2d(kernel_size=2, stride=2, padding=0, dilation=1, ceil_mode=False)\n",
      "  )\n",
      "  (conv_layer2): Sequential(\n",
      "    (0): Conv2d(64, 128, kernel_size=(3, 3), stride=(1, 1))\n",
      "    (1): BatchNorm2d(128, eps=1e-05, momentum=0.1, affine=True, track_running_stats=True)\n",
      "    (2): ReLU(inplace=True)\n",
      "    (3): Conv2d(128, 128, kernel_size=(3, 3), stride=(1, 1))\n",
      "    (4): ReLU(inplace=True)\n",
      "    (5): MaxPool2d(kernel_size=2, stride=2, padding=0, dilation=1, ceil_mode=False)\n",
      "  )\n",
      "  (fc_layer): Sequential(\n",
      "    (0): Linear(in_features=2048, out_features=512, bias=True)\n",
      "    (1): ReLU(inplace=True)\n",
      "    (2): Linear(in_features=512, out_features=256, bias=True)\n",
      "    (3): ReLU(inplace=True)\n",
      "    (4): Linear(in_features=256, out_features=10, bias=True)\n",
      "  )\n",
      ")\n"
     ]
    }
   ],
   "source": [
    "class NeuralNetwork(nn.Module):\n",
    "    def __init__(self):\n",
    "        super(NeuralNetwork, self).__init__()\n",
    "        self.conv_layer1 = nn.Sequential(\n",
    "            nn.Conv2d(in_channels=1, out_channels=32, kernel_size=3, stride=1),\n",
    "            nn.BatchNorm2d(32),\n",
    "            nn.ReLU(inplace=True),\n",
    "            nn.Conv2d(in_channels=32, out_channels=64, kernel_size=3, stride=1),\n",
    "            nn.ReLU(inplace=True),\n",
    "            nn.MaxPool2d(kernel_size=2, stride=2)\n",
    "        )\n",
    "\n",
    "        self.conv_layer2 = nn.Sequential(\n",
    "            nn.Conv2d(in_channels=64, out_channels=128, kernel_size=3, stride=1),\n",
    "            nn.BatchNorm2d(128),\n",
    "            nn.ReLU(inplace=True),\n",
    "            nn.Conv2d(in_channels=128, out_channels=128, kernel_size=3, stride=1),\n",
    "            nn.ReLU(inplace=True),\n",
    "            nn.MaxPool2d(kernel_size=2, stride=2),\n",
    "            #nn.Dropout2d(p=0.1)\n",
    "        )\n",
    "    \n",
    "    # For future use, not needed for MNIST dataset\n",
    "#     self.conv_layer3 = nn.Sequential(\n",
    "#         nn.Conv2d(in_channels=128, out_channels=256, kernel_size=3, stride=1),\n",
    "#         nn.BatchNorm2d(256),\n",
    "#         nn.ReLU(inplace=True),\n",
    "#         nn.Conv2d(in_channels=256, out_channels=256, kernel_size=3, stride=1),\n",
    "#         nn.ReLU(inplace=True)\n",
    "#         nn.MaxPool2d(kernel_size=2, stride=2)\n",
    "#         nn.Dropout2d(p=0.1)\n",
    "#     )\n",
    "    \n",
    "        self.fc_layer = nn.Sequential(\n",
    "            nn.Linear(in_features=2048, out_features=512), # Where 1792? Where 28?\n",
    "            nn.ReLU(inplace=True),\n",
    "            nn.Linear(in_features=512, out_features=256),\n",
    "            nn.ReLU(inplace=True),\n",
    "            #nn.Dropout(p=0.1),\n",
    "            nn.Linear(in_features=256, out_features=10)\n",
    "        )\n",
    "\n",
    "    def forward(self, x):\n",
    "        x = self.conv_layer1(x)\n",
    "\n",
    "        x = self.conv_layer2(x)\n",
    "\n",
    "        #     x = self.conv_layer3(x)\n",
    "\n",
    "        #x = F.flatten(X) # Maybe replace with .view\n",
    "        #x = x.view(-1, 131072) # Where 131072 - 128^2 * (8?)\n",
    "        #x = torch.flatten(x, 1)\n",
    "        x = x.view(x.size(0), -1)\n",
    "        #x = torch.flatten(x, 1)\n",
    "\n",
    "        x = self.fc_layer(x)\n",
    "\n",
    "        return F.log_softmax(x, dim=1)\n",
    "        \n",
    "\n",
    "model = NeuralNetwork()\n",
    "print(model)"
   ]
  },
  {
   "cell_type": "code",
   "execution_count": 19,
   "id": "dd3cc97a",
   "metadata": {},
   "outputs": [],
   "source": [
    "def train(model, train_dataloader, val_dataloader, loss_function, optimizer, train_steps, val_steps, history):\n",
    "    model.train()\n",
    "\n",
    "    total_train_loss = 0\n",
    "    total_val_loss = 0\n",
    "\n",
    "    total_train_correct = 0\n",
    "    total_val_correct = 0\n",
    "\n",
    "    for (X, y) in train_dataloader:\n",
    "        (X, y) = (X.to(device), y.to(device))\n",
    "\n",
    "        # Where to put...\n",
    "        optimizer.zero_grad()\n",
    "\n",
    "        pred = model(X)\n",
    "        loss = loss_function(pred, y)\n",
    "\n",
    "        loss.backward()\n",
    "        optimizer.step()\n",
    "\n",
    "        total_train_loss += loss\n",
    "        total_train_correct += (pred.argmax(1) == y).type(torch.float).sum().item()\n",
    "\n",
    "    with torch.no_grad():\n",
    "        model.eval()\n",
    "\n",
    "        for (X, y) in val_dataloader:\n",
    "            (X, y) = (X.to(device), y.to(device))\n",
    "\n",
    "            pred = model(X)\n",
    "            loss = loss_function(pred, y)\n",
    "\n",
    "            total_val_loss += loss\n",
    "            total_val_correct += (pred.argmax(1) == y).type(torch.float).sum().item()\n",
    "\n",
    "\n",
    "    avg_train_loss = total_train_loss / train_steps\n",
    "    avg_val_loss = total_val_loss / val_steps\n",
    "\n",
    "    train_correct = total_train_correct / len(train_dataloader.dataset)\n",
    "    val_correct = total_val_correct / len(val_dataloader.dataset)\n",
    "\n",
    "    history[\"train_loss\"].append(avg_train_loss.cpu().detach().numpy())\n",
    "    history[\"train_acc\"].append(train_correct)\n",
    "    history[\"val_loss\"].append(avg_val_loss.cpu().detach().numpy())\n",
    "    history[\"val_acc\"].append(val_correct)\n",
    "\n",
    "    return history"
   ]
  },
  {
   "cell_type": "code",
   "execution_count": 20,
   "id": "da7a6260",
   "metadata": {},
   "outputs": [],
   "source": [
    "def test_normal(model, test_dataloader, loss_function, test_data):\n",
    "    model.eval()\n",
    "\n",
    "    total_test_loss = 0\n",
    "    total_test_correct = 0\n",
    "    preds = []\n",
    "    \n",
    "    examples = []\n",
    "    \n",
    "    for (X, y) in test_dataloader:\n",
    "        (X, y) = (X.to(device), y.to(device))\n",
    "\n",
    "        pred = model(X)\n",
    "        loss = loss_function(pred, y)\n",
    "\n",
    "        total_test_loss += loss\n",
    "        total_test_correct += (pred.argmax(1) == y).type(torch.float).sum().item()\n",
    "\n",
    "        preds.extend(pred.argmax(axis=1).cpu().numpy())\n",
    "        \n",
    "        if len(examples) < 5:\n",
    "            examples.append( (pred, X.squeeze().detach().cpu().numpy()) )\n",
    "\n",
    "    #cr = classification_report(test_data.targets.cpu().numpy(), np.array(preds), target_names=test_data.classes)\n",
    "    cr = classification_report(test_data.targets, np.array(preds), target_names=test_data.classes)\n",
    "\n",
    "    return cr, examples"
   ]
  },
  {
   "cell_type": "code",
   "execution_count": 21,
   "id": "e1d78d56",
   "metadata": {},
   "outputs": [],
   "source": [
    "def fgsm_attack(image, epsilon, data_grad):\n",
    "    sign_data_grad = data_grad.sign()\n",
    "\n",
    "    perturbed_image = image + epsilon*sign_data_grad\n",
    "    perturbed_image = torch.clamp(perturbed_image, 0, 1)\n",
    "\n",
    "    return perturbed_image\n",
    "\n",
    "# restores the tensors to their original scale\n",
    "def denorm(batch, mean=[0.1307], std=[0.3081]):\n",
    "    if isinstance(mean, list):\n",
    "        mean = torch.tensor(mean).to(device)\n",
    "    if isinstance(std, list):\n",
    "        std = torch.tensor(std).to(device)\n",
    "\n",
    "    return batch * std.view(1, -1, 1, 1) + mean.view(1, -1, 1, 1)"
   ]
  },
  {
   "cell_type": "code",
   "execution_count": 22,
   "id": "b07dfab6",
   "metadata": {},
   "outputs": [],
   "source": [
    "def test_attack(model, test_dataloader, loss_function, test_data, epsilon):\n",
    "    model.eval()\n",
    "\n",
    "    total_test_loss = 0\n",
    "    total_test_correct = 0\n",
    "    preds = []\n",
    "    \n",
    "    examples = []\n",
    "    \n",
    "    for (X, y) in test_dataloader:\n",
    "        (X, y) = (X.to(device), y.to(device))\n",
    "        \n",
    "        X.requires_grad = True\n",
    "\n",
    "        init_pred = model(X)\n",
    "        init_loss = loss_function(init_pred, y)\n",
    "        \n",
    "        model.zero_grad()\n",
    "        init_loss.backward()\n",
    "        \n",
    "        X_grad = X.grad.data\n",
    "        X_denorm = denorm(X)\n",
    "        \n",
    "        X_attack = fgsm_attack(X_denorm, epsilon, X_grad)\n",
    "        X_attack_normalized = transforms.Normalize((0.137,), (0.3081,))(X_attack)\n",
    "        attack_pred = model(X_attack_normalized)\n",
    "        \n",
    "        attack_loss = loss_function(attack_pred, y)\n",
    "\n",
    "        total_test_loss += attack_loss\n",
    "        total_test_correct += (attack_pred.argmax(1) == y).type(torch.float).sum().item()\n",
    "\n",
    "        preds.extend(attack_pred.argmax(axis=1).cpu().numpy())\n",
    "        \n",
    "        if len(examples) < 5:\n",
    "            examples.append( (init_pred, attack_pred, X.squeeze().detach().cpu().numpy()) )\n",
    "\n",
    "    #cr = classification_report(test_data.targets.cpu().numpy(), np.array(preds), target_names=test_data.classes)\n",
    "    cr = classification_report(test_data.targets, np.array(preds), target_names=test_data.classes)\n",
    "\n",
    "    return cr, examples"
   ]
  },
  {
   "cell_type": "code",
   "execution_count": 23,
   "id": "f067913c",
   "metadata": {},
   "outputs": [
    {
     "name": "stdout",
     "output_type": "stream",
     "text": [
      "Device: cpu\n"
     ]
    }
   ],
   "source": [
    "LEARNING_RATE = 1e-4\n",
    "BATCH_SIZE = 64\n",
    "EPOCHS = 3\n",
    "\n",
    "TRAIN_SPLIT = 0.8\n",
    "VAL_SPLIT = 1 - TRAIN_SPLIT\n",
    "\n",
    "device = torch.device(\"cuda\" if torch.cuda.is_available() else \"cpu\")\n",
    "print(f\"Device: {device}\")"
   ]
  },
  {
   "cell_type": "code",
   "execution_count": 24,
   "id": "7741468f",
   "metadata": {},
   "outputs": [],
   "source": [
    "optimizer = torch.optim.Adam(model.parameters(), lr=LEARNING_RATE)\n",
    "#optimizer = torch.optim.SGD(model.parameters(), lr=LEARNING_RATE, momentum=0.9)\n",
    "loss_function = nn.NLLLoss()\n",
    "#loss_function = torch.nn.CrossEntropyLoss()\n",
    "\n",
    "history = {\n",
    "    \"train_loss\": [],\n",
    "    \"train_acc\": [],\n",
    "    \"val_loss\": [],\n",
    "    \"val_acc\": []\n",
    "}"
   ]
  },
  {
   "cell_type": "code",
   "execution_count": 25,
   "id": "e3d5abb1",
   "metadata": {},
   "outputs": [],
   "source": [
    "# For now remove SSL certification because is not working\n",
    "# Remove when SSL cert is working\n",
    "import ssl\n",
    "ssl._create_default_https_context = ssl._create_unverified_context"
   ]
  },
  {
   "cell_type": "code",
   "execution_count": 26,
   "id": "306e3948",
   "metadata": {},
   "outputs": [],
   "source": [
    "train_data_init = datasets.MNIST(root=\"data\", train=True, download=True, transform=ToTensor())\n",
    "test_data = datasets.MNIST(root=\"data\", train=True, download=True, transform=ToTensor())\n",
    "# train_data_init = datasets.CIFAR10(root=\"data\", train=True, download=True, transform=ToTensor())\n",
    "# test_data = datasets.CIFAR10(root=\"data\", train=True, download=True, transform=ToTensor())\n",
    "\n",
    "train_sample_size = int(len(train_data_init) * TRAIN_SPLIT)\n",
    "#val_sample_size = int(len(train_data_init) * VAL_SPLIT)\n",
    "val_sample_size = len(train_data_init) - train_sample_size\n",
    "train_data, val_data = random_split(train_data_init, [train_sample_size, val_sample_size], generator=torch.Generator().manual_seed(42)) # manual seed for reproducability"
   ]
  },
  {
   "cell_type": "code",
   "execution_count": 27,
   "id": "a8c1524c",
   "metadata": {},
   "outputs": [],
   "source": [
    "train_dataloader = DataLoader(train_data, batch_size = BATCH_SIZE)\n",
    "val_dataloader = DataLoader(val_data, batch_size = BATCH_SIZE)\n",
    "test_dataloader = DataLoader(test_data, batch_size = BATCH_SIZE)\n",
    "\n",
    "train_steps = len(train_dataloader.dataset) // BATCH_SIZE\n",
    "val_steps = len(val_dataloader.dataset) // BATCH_SIZE\n",
    "test_steps = len(test_dataloader.dataset) // BATCH_SIZE\n",
    "\n",
    "classes = (\"0\", \"1\", \"2\", \"3\", \"4\", \"5\", \"6\", \"7\", \"8\", \"9\")"
   ]
  },
  {
   "cell_type": "code",
   "execution_count": 28,
   "id": "8a1d60f9",
   "metadata": {},
   "outputs": [
    {
     "name": "stdout",
     "output_type": "stream",
     "text": [
      "Shape of X [N, C, H, W]: torch.Size([64, 1, 28, 28])\n",
      "Shape of y: torch.Size([64]) torch.int64\n",
      "--------------------------------------------------\n",
      "Shape of X [N, C, H, W]: torch.Size([64, 1, 28, 28])\n",
      "Shape of y: torch.Size([64]) torch.int64\n",
      "--------------------------------------------------\n",
      "Shape of X [N, C, H, W]: torch.Size([64, 1, 28, 28])\n",
      "Shape of y: torch.Size([64]) torch.int64\n"
     ]
    }
   ],
   "source": [
    "for X, y in train_dataloader:\n",
    "    print(f\"Shape of X [N, C, H, W]: {X.shape}\")\n",
    "    print(f\"Shape of y: {y.shape} {y.dtype}\")\n",
    "    break\n",
    "\n",
    "print(\"-\"*50)\n",
    "\n",
    "for X, y in val_dataloader:\n",
    "    print(f\"Shape of X [N, C, H, W]: {X.shape}\")\n",
    "    print(f\"Shape of y: {y.shape} {y.dtype}\")\n",
    "    break\n",
    "\n",
    "print(\"-\"*50)\n",
    "\n",
    "for X, y in test_dataloader:\n",
    "    print(f\"Shape of X [N, C, H, W]: {X.shape}\")\n",
    "    print(f\"Shape of y: {y.shape} {y.dtype}\")\n",
    "    break\n"
   ]
  },
  {
   "cell_type": "code",
   "execution_count": 29,
   "id": "75332d55",
   "metadata": {},
   "outputs": [],
   "source": [
    "# def show_images(img, one_channel=True):\n",
    "#     if one_channel:\n",
    "#         img = img.mean(dim=0)\n",
    "\n",
    "#     img = img / 2 + 0.5 # unnormalize? (what does it mean)\n",
    "#     #np_img = img.numpy()\n",
    "\n",
    "#     if one_channel:\n",
    "#         plt.imshow(img, cmap=\"Greys\")\n",
    "#     else:\n",
    "#         plt.imshow(np.transpose(img, (1, 2, 0)))\n",
    "\n",
    "# dataiter = iter(train_dataloader)\n",
    "# images, labels = next(dataiter)\n",
    "# images = images.numpy()\n",
    "\n",
    "# %matplotlib inline\n",
    "\n",
    "# fig = plt.figure(figsize=(25, 4))\n",
    "# for idx in np.arange(20):\n",
    "#     ax = fig.add_subplot(2, 10, idx+1, xticks=[], yticks=[])\n",
    "#     show_images(images[idx])\n",
    "#     ax.set_title(classes[labels[idx]])"
   ]
  },
  {
   "cell_type": "code",
   "execution_count": 30,
   "id": "f6522b38",
   "metadata": {},
   "outputs": [
    {
     "name": "stdout",
     "output_type": "stream",
     "text": [
      "Epoch 1\n"
     ]
    },
    {
     "ename": "KeyboardInterrupt",
     "evalue": "",
     "output_type": "error",
     "traceback": [
      "\u001b[1;31m---------------------------------------------------------------------------\u001b[0m",
      "\u001b[1;31mKeyboardInterrupt\u001b[0m                         Traceback (most recent call last)",
      "Cell \u001b[1;32mIn[30], line 3\u001b[0m\n\u001b[0;32m      1\u001b[0m \u001b[38;5;28;01mfor\u001b[39;00m e \u001b[38;5;129;01min\u001b[39;00m \u001b[38;5;28mrange\u001b[39m(EPOCHS):\n\u001b[0;32m      2\u001b[0m     \u001b[38;5;28mprint\u001b[39m(\u001b[38;5;124mf\u001b[39m\u001b[38;5;124m\"\u001b[39m\u001b[38;5;124mEpoch \u001b[39m\u001b[38;5;132;01m{\u001b[39;00me\u001b[38;5;241m+\u001b[39m\u001b[38;5;241m1\u001b[39m\u001b[38;5;132;01m}\u001b[39;00m\u001b[38;5;124m\"\u001b[39m)\n\u001b[1;32m----> 3\u001b[0m     \u001b[38;5;28mprint\u001b[39m(\u001b[43mtrain\u001b[49m\u001b[43m(\u001b[49m\u001b[43mmodel\u001b[49m\u001b[43m,\u001b[49m\u001b[43m \u001b[49m\u001b[43mtrain_dataloader\u001b[49m\u001b[43m,\u001b[49m\u001b[43m \u001b[49m\u001b[43mval_dataloader\u001b[49m\u001b[43m,\u001b[49m\u001b[43m \u001b[49m\u001b[43mloss_function\u001b[49m\u001b[43m,\u001b[49m\u001b[43m \u001b[49m\u001b[43moptimizer\u001b[49m\u001b[43m,\u001b[49m\u001b[43m \u001b[49m\u001b[43mtrain_steps\u001b[49m\u001b[43m,\u001b[49m\u001b[43m \u001b[49m\u001b[43mval_steps\u001b[49m\u001b[43m,\u001b[49m\u001b[43m \u001b[49m\u001b[43mhistory\u001b[49m\u001b[43m)\u001b[49m)\n\u001b[0;32m      4\u001b[0m     \u001b[38;5;28mprint\u001b[39m(\u001b[38;5;124m\"\u001b[39m\u001b[38;5;124m-\u001b[39m\u001b[38;5;124m\"\u001b[39m\u001b[38;5;241m*\u001b[39m\u001b[38;5;241m50\u001b[39m)\n\u001b[0;32m      6\u001b[0m \u001b[38;5;66;03m# cr, examples = test_normal(model, test_dataloader, loss_function, test_data)\u001b[39;00m\n\u001b[0;32m      7\u001b[0m \u001b[38;5;66;03m# print(cr)\u001b[39;00m\n",
      "Cell \u001b[1;32mIn[19], line 19\u001b[0m, in \u001b[0;36mtrain\u001b[1;34m(model, train_dataloader, val_dataloader, loss_function, optimizer, train_steps, val_steps, history)\u001b[0m\n\u001b[0;32m     16\u001b[0m pred \u001b[38;5;241m=\u001b[39m model(X)\n\u001b[0;32m     17\u001b[0m loss \u001b[38;5;241m=\u001b[39m loss_function(pred, y)\n\u001b[1;32m---> 19\u001b[0m \u001b[43mloss\u001b[49m\u001b[38;5;241;43m.\u001b[39;49m\u001b[43mbackward\u001b[49m\u001b[43m(\u001b[49m\u001b[43m)\u001b[49m\n\u001b[0;32m     20\u001b[0m optimizer\u001b[38;5;241m.\u001b[39mstep()\n\u001b[0;32m     22\u001b[0m total_train_loss \u001b[38;5;241m+\u001b[39m\u001b[38;5;241m=\u001b[39m loss\n",
      "File \u001b[1;32mc:\\Users\\alica\\AppData\\Local\\Programs\\Python\\Python312\\Lib\\site-packages\\torch\\_tensor.py:522\u001b[0m, in \u001b[0;36mTensor.backward\u001b[1;34m(self, gradient, retain_graph, create_graph, inputs)\u001b[0m\n\u001b[0;32m    512\u001b[0m \u001b[38;5;28;01mif\u001b[39;00m has_torch_function_unary(\u001b[38;5;28mself\u001b[39m):\n\u001b[0;32m    513\u001b[0m     \u001b[38;5;28;01mreturn\u001b[39;00m handle_torch_function(\n\u001b[0;32m    514\u001b[0m         Tensor\u001b[38;5;241m.\u001b[39mbackward,\n\u001b[0;32m    515\u001b[0m         (\u001b[38;5;28mself\u001b[39m,),\n\u001b[1;32m   (...)\u001b[0m\n\u001b[0;32m    520\u001b[0m         inputs\u001b[38;5;241m=\u001b[39minputs,\n\u001b[0;32m    521\u001b[0m     )\n\u001b[1;32m--> 522\u001b[0m \u001b[43mtorch\u001b[49m\u001b[38;5;241;43m.\u001b[39;49m\u001b[43mautograd\u001b[49m\u001b[38;5;241;43m.\u001b[39;49m\u001b[43mbackward\u001b[49m\u001b[43m(\u001b[49m\n\u001b[0;32m    523\u001b[0m \u001b[43m    \u001b[49m\u001b[38;5;28;43mself\u001b[39;49m\u001b[43m,\u001b[49m\u001b[43m \u001b[49m\u001b[43mgradient\u001b[49m\u001b[43m,\u001b[49m\u001b[43m \u001b[49m\u001b[43mretain_graph\u001b[49m\u001b[43m,\u001b[49m\u001b[43m \u001b[49m\u001b[43mcreate_graph\u001b[49m\u001b[43m,\u001b[49m\u001b[43m \u001b[49m\u001b[43minputs\u001b[49m\u001b[38;5;241;43m=\u001b[39;49m\u001b[43minputs\u001b[49m\n\u001b[0;32m    524\u001b[0m \u001b[43m\u001b[49m\u001b[43m)\u001b[49m\n",
      "File \u001b[1;32mc:\\Users\\alica\\AppData\\Local\\Programs\\Python\\Python312\\Lib\\site-packages\\torch\\autograd\\__init__.py:266\u001b[0m, in \u001b[0;36mbackward\u001b[1;34m(tensors, grad_tensors, retain_graph, create_graph, grad_variables, inputs)\u001b[0m\n\u001b[0;32m    261\u001b[0m     retain_graph \u001b[38;5;241m=\u001b[39m create_graph\n\u001b[0;32m    263\u001b[0m \u001b[38;5;66;03m# The reason we repeat the same comment below is that\u001b[39;00m\n\u001b[0;32m    264\u001b[0m \u001b[38;5;66;03m# some Python versions print out the first line of a multi-line function\u001b[39;00m\n\u001b[0;32m    265\u001b[0m \u001b[38;5;66;03m# calls in the traceback and some print out the last line\u001b[39;00m\n\u001b[1;32m--> 266\u001b[0m \u001b[43mVariable\u001b[49m\u001b[38;5;241;43m.\u001b[39;49m\u001b[43m_execution_engine\u001b[49m\u001b[38;5;241;43m.\u001b[39;49m\u001b[43mrun_backward\u001b[49m\u001b[43m(\u001b[49m\u001b[43m  \u001b[49m\u001b[38;5;66;43;03m# Calls into the C++ engine to run the backward pass\u001b[39;49;00m\n\u001b[0;32m    267\u001b[0m \u001b[43m    \u001b[49m\u001b[43mtensors\u001b[49m\u001b[43m,\u001b[49m\n\u001b[0;32m    268\u001b[0m \u001b[43m    \u001b[49m\u001b[43mgrad_tensors_\u001b[49m\u001b[43m,\u001b[49m\n\u001b[0;32m    269\u001b[0m \u001b[43m    \u001b[49m\u001b[43mretain_graph\u001b[49m\u001b[43m,\u001b[49m\n\u001b[0;32m    270\u001b[0m \u001b[43m    \u001b[49m\u001b[43mcreate_graph\u001b[49m\u001b[43m,\u001b[49m\n\u001b[0;32m    271\u001b[0m \u001b[43m    \u001b[49m\u001b[43minputs\u001b[49m\u001b[43m,\u001b[49m\n\u001b[0;32m    272\u001b[0m \u001b[43m    \u001b[49m\u001b[43mallow_unreachable\u001b[49m\u001b[38;5;241;43m=\u001b[39;49m\u001b[38;5;28;43;01mTrue\u001b[39;49;00m\u001b[43m,\u001b[49m\n\u001b[0;32m    273\u001b[0m \u001b[43m    \u001b[49m\u001b[43maccumulate_grad\u001b[49m\u001b[38;5;241;43m=\u001b[39;49m\u001b[38;5;28;43;01mTrue\u001b[39;49;00m\u001b[43m,\u001b[49m\n\u001b[0;32m    274\u001b[0m \u001b[43m\u001b[49m\u001b[43m)\u001b[49m\n",
      "\u001b[1;31mKeyboardInterrupt\u001b[0m: "
     ]
    }
   ],
   "source": [
    "for e in range(EPOCHS):\n",
    "    print(f\"Epoch {e+1}\")\n",
    "    print(train(model, train_dataloader, val_dataloader, loss_function, optimizer, train_steps, val_steps, history))\n",
    "    print(\"-\"*50)\n",
    "\n",
    "# cr, examples = test_normal(model, test_dataloader, loss_function, test_data)\n",
    "# print(cr)"
   ]
  },
  {
   "cell_type": "code",
   "execution_count": null,
   "id": "f0e954f6",
   "metadata": {},
   "outputs": [
    {
     "name": "stdout",
     "output_type": "stream",
     "text": [
      "              precision    recall  f1-score   support\n",
      "\n",
      "    0 - zero       0.99      1.00      0.99      5923\n",
      "     1 - one       1.00      0.99      0.99      6742\n",
      "     2 - two       0.99      0.99      0.99      5958\n",
      "   3 - three       1.00      0.99      0.99      6131\n",
      "    4 - four       0.99      0.99      0.99      5842\n",
      "    5 - five       0.99      0.99      0.99      5421\n",
      "     6 - six       0.99      1.00      1.00      5918\n",
      "   7 - seven       0.96      1.00      0.98      6265\n",
      "   8 - eight       1.00      0.98      0.99      5851\n",
      "    9 - nine       0.99      0.98      0.99      5949\n",
      "\n",
      "    accuracy                           0.99     60000\n",
      "   macro avg       0.99      0.99      0.99     60000\n",
      "weighted avg       0.99      0.99      0.99     60000\n",
      "\n"
     ]
    }
   ],
   "source": [
    "cr, examples = test_normal(model, test_dataloader, loss_function, test_data)\n",
    "print(cr)"
   ]
  },
  {
   "cell_type": "code",
   "execution_count": null,
   "id": "1fecfb3f",
   "metadata": {
    "scrolled": false
   },
   "outputs": [
    {
     "data": {
      "image/png": "[encoded data removed]",
      "text/plain": [
       "<Figure size 800x1000 with 5 Axes>"
      ]
     },
     "metadata": {},
     "output_type": "display_data"
    }
   ],
   "source": [
    "cnt = 0\n",
    "plt.figure(figsize=(8,10))\n",
    "for i in range(len(examples)):\n",
    "    cnt += 1\n",
    "    plt.subplot(1, 5, cnt)\n",
    "    plt.xticks([], [])\n",
    "    plt.yticks([], [])\n",
    "    preds, img = examples[i]\n",
    "    #plt.title(f\"{(preds[i].max(0, keepdim=True)[1]).item()}\")\n",
    "    plt.title(f\"{preds.argmax(1)[0]}\")\n",
    "    plt.imshow(img[0,:,:], cmap=\"gray\")\n",
    "plt.tight_layout()\n",
    "plt.show()"
   ]
  },
  {
   "cell_type": "code",
   "execution_count": null,
   "id": "dc291f7a",
   "metadata": {
    "scrolled": false
   },
   "outputs": [
    {
     "name": "stdout",
     "output_type": "stream",
     "text": [
      "              precision    recall  f1-score   support\n",
      "\n",
      "    0 - zero       0.99      1.00      0.99      5923\n",
      "     1 - one       1.00      0.99      0.99      6742\n",
      "     2 - two       0.99      0.99      0.99      5958\n",
      "   3 - three       1.00      0.99      0.99      6131\n",
      "    4 - four       0.99      0.99      0.99      5842\n",
      "    5 - five       0.99      0.99      0.99      5421\n",
      "     6 - six       1.00      1.00      1.00      5918\n",
      "   7 - seven       0.96      1.00      0.98      6265\n",
      "   8 - eight       1.00      0.98      0.99      5851\n",
      "    9 - nine       0.99      0.98      0.99      5949\n",
      "\n",
      "    accuracy                           0.99     60000\n",
      "   macro avg       0.99      0.99      0.99     60000\n",
      "weighted avg       0.99      0.99      0.99     60000\n",
      "\n"
     ]
    },
    {
     "data": {
      "image/png": "[encoded data removed]",
      "text/plain": [
       "<Figure size 800x1000 with 5 Axes>"
      ]
     },
     "metadata": {},
     "output_type": "display_data"
    },
    {
     "name": "stdout",
     "output_type": "stream",
     "text": [
      "              precision    recall  f1-score   support\n",
      "\n",
      "    0 - zero       0.79      0.72      0.75      5923\n",
      "     1 - one       0.68      0.10      0.17      6742\n",
      "     2 - two       0.44      0.49      0.46      5958\n",
      "   3 - three       0.56      0.51      0.53      6131\n",
      "    4 - four       0.43      0.34      0.38      5842\n",
      "    5 - five       0.45      0.39      0.42      5421\n",
      "     6 - six       0.74      0.55      0.63      5918\n",
      "   7 - seven       0.25      0.71      0.37      6265\n",
      "   8 - eight       0.41      0.38      0.39      5851\n",
      "    9 - nine       0.07      0.05      0.06      5949\n",
      "\n",
      "    accuracy                           0.42     60000\n",
      "   macro avg       0.48      0.42      0.42     60000\n",
      "weighted avg       0.48      0.42      0.41     60000\n",
      "\n"
     ]
    },
    {
     "data": {
      "image/png": "[encoded data removed]",
      "text/plain": [
       "<Figure size 800x1000 with 5 Axes>"
      ]
     },
     "metadata": {},
     "output_type": "display_data"
    },
    {
     "name": "stdout",
     "output_type": "stream",
     "text": [
      "              precision    recall  f1-score   support\n",
      "\n",
      "    0 - zero       0.27      0.09      0.13      5923\n",
      "     1 - one       0.00      0.00      0.00      6742\n",
      "     2 - two       0.12      0.16      0.14      5958\n",
      "   3 - three       0.06      0.03      0.04      6131\n",
      "    4 - four       0.04      0.02      0.02      5842\n",
      "    5 - five       0.00      0.00      0.00      5421\n",
      "     6 - six       0.01      0.00      0.00      5918\n",
      "   7 - seven       0.01      0.02      0.01      6265\n",
      "   8 - eight       0.04      0.14      0.06      5851\n",
      "    9 - nine       0.00      0.00      0.00      5949\n",
      "\n",
      "    accuracy                           0.05     60000\n",
      "   macro avg       0.06      0.05      0.04     60000\n",
      "weighted avg       0.06      0.05      0.04     60000\n",
      "\n"
     ]
    },
    {
     "data": {
      "image/png": "[encoded data removed]",
      "text/plain": [
       "<Figure size 800x1000 with 5 Axes>"
      ]
     },
     "metadata": {},
     "output_type": "display_data"
    },
    {
     "name": "stdout",
     "output_type": "stream",
     "text": [
      "              precision    recall  f1-score   support\n",
      "\n",
      "    0 - zero       0.01      0.00      0.00      5923\n",
      "     1 - one       0.00      0.00      0.00      6742\n",
      "     2 - two       0.12      0.15      0.13      5958\n",
      "   3 - three       0.01      0.00      0.00      6131\n",
      "    4 - four       0.01      0.00      0.00      5842\n",
      "    5 - five       0.00      0.00      0.00      5421\n",
      "     6 - six       0.00      0.00      0.00      5918\n",
      "   7 - seven       0.00      0.00      0.00      6265\n",
      "   8 - eight       0.04      0.26      0.08      5851\n",
      "    9 - nine       0.00      0.00      0.00      5949\n",
      "\n",
      "    accuracy                           0.04     60000\n",
      "   macro avg       0.02      0.04      0.02     60000\n",
      "weighted avg       0.02      0.04      0.02     60000\n",
      "\n"
     ]
    },
    {
     "data": {
      "image/png": "[encoded data removed]",
      "text/plain": [
       "<Figure size 800x1000 with 5 Axes>"
      ]
     },
     "metadata": {},
     "output_type": "display_data"
    },
    {
     "name": "stdout",
     "output_type": "stream",
     "text": [
      "              precision    recall  f1-score   support\n",
      "\n",
      "    0 - zero       0.00      0.00      0.00      5923\n",
      "     1 - one       0.00      0.00      0.00      6742\n",
      "     2 - two       0.16      0.14      0.15      5958\n",
      "   3 - three       0.01      0.00      0.00      6131\n",
      "    4 - four       0.01      0.00      0.00      5842\n",
      "    5 - five       0.00      0.00      0.00      5421\n",
      "     6 - six       0.00      0.00      0.00      5918\n",
      "   7 - seven       0.00      0.00      0.00      6265\n",
      "   8 - eight       0.07      0.51      0.12      5851\n",
      "    9 - nine       0.00      0.00      0.00      5949\n",
      "\n",
      "    accuracy                           0.06     60000\n",
      "   macro avg       0.02      0.06      0.03     60000\n",
      "weighted avg       0.02      0.06      0.03     60000\n",
      "\n"
     ]
    },
    {
     "data": {
      "image/png": "[encoded data removed]",
      "text/plain": [
       "<Figure size 800x1000 with 5 Axes>"
      ]
     },
     "metadata": {},
     "output_type": "display_data"
    },
    {
     "name": "stderr",
     "output_type": "stream",
     "text": [
      "C:\\Users\\alica\\AppData\\Local\\Packages\\PythonSoftwareFoundation.Python.3.10_qbz5n2kfra8p0\\LocalCache\\local-packages\\Python310\\site-packages\\sklearn\\metrics\\_classification.py:1334: UndefinedMetricWarning: Precision and F-score are ill-defined and being set to 0.0 in labels with no predicted samples. Use `zero_division` parameter to control this behavior.\n",
      "  _warn_prf(average, modifier, msg_start, len(result))\n",
      "C:\\Users\\alica\\AppData\\Local\\Packages\\PythonSoftwareFoundation.Python.3.10_qbz5n2kfra8p0\\LocalCache\\local-packages\\Python310\\site-packages\\sklearn\\metrics\\_classification.py:1334: UndefinedMetricWarning: Precision and F-score are ill-defined and being set to 0.0 in labels with no predicted samples. Use `zero_division` parameter to control this behavior.\n",
      "  _warn_prf(average, modifier, msg_start, len(result))\n",
      "C:\\Users\\alica\\AppData\\Local\\Packages\\PythonSoftwareFoundation.Python.3.10_qbz5n2kfra8p0\\LocalCache\\local-packages\\Python310\\site-packages\\sklearn\\metrics\\_classification.py:1334: UndefinedMetricWarning: Precision and F-score are ill-defined and being set to 0.0 in labels with no predicted samples. Use `zero_division` parameter to control this behavior.\n",
      "  _warn_prf(average, modifier, msg_start, len(result))\n"
     ]
    },
    {
     "name": "stdout",
     "output_type": "stream",
     "text": [
      "              precision    recall  f1-score   support\n",
      "\n",
      "    0 - zero       0.00      0.00      0.00      5923\n",
      "     1 - one       0.00      0.00      0.00      6742\n",
      "     2 - two       0.20      0.13      0.16      5958\n",
      "   3 - three       0.01      0.00      0.00      6131\n",
      "    4 - four       0.01      0.00      0.00      5842\n",
      "    5 - five       0.00      0.00      0.00      5421\n",
      "     6 - six       0.00      0.00      0.00      5918\n",
      "   7 - seven       0.00      0.00      0.00      6265\n",
      "   8 - eight       0.08      0.73      0.15      5851\n",
      "    9 - nine       0.00      0.00      0.00      5949\n",
      "\n",
      "    accuracy                           0.08     60000\n",
      "   macro avg       0.03      0.09      0.03     60000\n",
      "weighted avg       0.03      0.08      0.03     60000\n",
      "\n"
     ]
    },
    {
     "data": {
      "image/png": "[encoded data removed]",
      "text/plain": [
       "<Figure size 800x1000 with 5 Axes>"
      ]
     },
     "metadata": {},
     "output_type": "display_data"
    },
    {
     "name": "stderr",
     "output_type": "stream",
     "text": [
      "C:\\Users\\alica\\AppData\\Local\\Packages\\PythonSoftwareFoundation.Python.3.10_qbz5n2kfra8p0\\LocalCache\\local-packages\\Python310\\site-packages\\sklearn\\metrics\\_classification.py:1334: UndefinedMetricWarning: Precision and F-score are ill-defined and being set to 0.0 in labels with no predicted samples. Use `zero_division` parameter to control this behavior.\n",
      "  _warn_prf(average, modifier, msg_start, len(result))\n",
      "C:\\Users\\alica\\AppData\\Local\\Packages\\PythonSoftwareFoundation.Python.3.10_qbz5n2kfra8p0\\LocalCache\\local-packages\\Python310\\site-packages\\sklearn\\metrics\\_classification.py:1334: UndefinedMetricWarning: Precision and F-score are ill-defined and being set to 0.0 in labels with no predicted samples. Use `zero_division` parameter to control this behavior.\n",
      "  _warn_prf(average, modifier, msg_start, len(result))\n",
      "C:\\Users\\alica\\AppData\\Local\\Packages\\PythonSoftwareFoundation.Python.3.10_qbz5n2kfra8p0\\LocalCache\\local-packages\\Python310\\site-packages\\sklearn\\metrics\\_classification.py:1334: UndefinedMetricWarning: Precision and F-score are ill-defined and being set to 0.0 in labels with no predicted samples. Use `zero_division` parameter to control this behavior.\n",
      "  _warn_prf(average, modifier, msg_start, len(result))\n"
     ]
    },
    {
     "name": "stdout",
     "output_type": "stream",
     "text": [
      "              precision    recall  f1-score   support\n",
      "\n",
      "    0 - zero       0.00      0.00      0.00      5923\n",
      "     1 - one       0.00      0.00      0.00      6742\n",
      "     2 - two       0.25      0.11      0.15      5958\n",
      "   3 - three       0.03      0.00      0.00      6131\n",
      "    4 - four       0.04      0.00      0.00      5842\n",
      "    5 - five       0.00      0.00      0.00      5421\n",
      "     6 - six       0.00      0.00      0.00      5918\n",
      "   7 - seven       0.00      0.00      0.00      6265\n",
      "   8 - eight       0.09      0.85      0.16      5851\n",
      "    9 - nine       0.00      0.00      0.00      5949\n",
      "\n",
      "    accuracy                           0.09     60000\n",
      "   macro avg       0.04      0.10      0.03     60000\n",
      "weighted avg       0.04      0.09      0.03     60000\n",
      "\n"
     ]
    },
    {
     "data": {
      "image/png": "[encoded data removed]",
      "text/plain": [
       "<Figure size 800x1000 with 5 Axes>"
      ]
     },
     "metadata": {},
     "output_type": "display_data"
    }
   ],
   "source": [
    "epsilons = [0, 0.05, 0.10, 0.15, 0.20, 0.25, 0.3]\n",
    "for eps in epsilons:\n",
    "    cr, examples = test_attack(model, test_dataloader, loss_function, test_data, eps)\n",
    "    print(cr)\n",
    "    \n",
    "    cnt = 0\n",
    "    plt.figure(figsize=(8,10))\n",
    "    for i in range(len(examples)):\n",
    "        cnt += 1\n",
    "        plt.subplot(1, 5, cnt)\n",
    "        plt.xticks([], [])\n",
    "        plt.yticks([], [])\n",
    "        init_preds, attack_preds, img = examples[i]\n",
    "        if i == 0:\n",
    "            plt.ylabel(f\"Epsilons: {eps}\")\n",
    "        plt.title(f\"{(init_preds.argmax(1)[0])} -> {(attack_preds.argmax(1)[0])}\")\n",
    "        plt.imshow(img[0,:,:], cmap=\"gray\")\n",
    "    plt.tight_layout()\n",
    "    plt.show()"
   ]
  },
  {
   "cell_type": "code",
   "execution_count": 32,
   "id": "21ef35e3",
   "metadata": {},
   "outputs": [
    {
     "data": {
      "image/png": "[encoded data removed]",
      "text/plain": [
       "<Figure size 640x480 with 1 Axes>"
      ]
     },
     "metadata": {},
     "output_type": "display_data"
    }
   ],
   "source": [
    "import torch\n",
    "import matplotlib.pyplot as plt\n",
    "image_tensor = torch.Tensor([[-2.7405, -2.8634, -2.6049, -4.1019, -0.7500, -3.3853, -4.1889, -2.8713,\n",
    "         -1.8037, -3.0958],\n",
    "        [-3.4965, -4.1056, -0.6902, -3.4309, -2.7710, -5.0686, -5.4433, -3.5725,\n",
    "         -1.1962, -4.1497],\n",
    "        [-2.7748, -3.4666, -2.1219, -2.1057, -2.5598, -3.4843, -4.7907, -4.2808,\n",
    "         -0.7272, -2.9666],\n",
    "        [-6.5359, -6.1278, -4.2319, -7.8170, -0.0623, -5.7989, -6.1131, -5.3489,\n",
    "         -3.5167, -6.1332],\n",
    "        [-3.1934, -5.3056, -5.9523, -4.9178, -5.0283, -0.5206, -4.1703, -6.8857,\n",
    "         -1.1401, -4.9484],\n",
    "        [-3.1571, -4.5798, -2.6176, -5.2062, -1.2382, -3.4744, -1.5411, -5.5968,\n",
    "         -1.1257, -5.1914],\n",
    "        [-3.0967, -3.6589, -2.8114, -3.2930, -1.7477, -3.3722, -5.5208, -1.2071,\n",
    "         -1.3765, -2.6917],\n",
    "        [-3.9202, -5.2179, -3.2840, -4.4052, -4.0295, -4.3327, -5.5296, -5.3550,\n",
    "         -0.1272, -5.3240],\n",
    "        [-4.0922, -6.4769, -3.3772, -6.5109, -0.4134, -4.6729, -5.2042, -5.9427,\n",
    "         -1.5783, -2.7979],\n",
    "        [-0.5804, -5.1068, -3.2618, -5.2414, -2.5466, -4.0353, -2.8296, -5.0590,\n",
    "         -1.5039, -4.9662],\n",
    "        [-2.7523, -3.1114, -2.2901, -4.1775, -1.1230, -3.3073, -3.7379, -3.6772,\n",
    "         -1.1002, -3.4646],\n",
    "        [-4.1386, -4.4843, -0.2309, -4.3880, -3.3642, -6.0336, -5.6605, -4.0869,\n",
    "         -2.2666, -5.1911],\n",
    "        [-1.6277, -3.8560, -2.3912, -0.8952, -4.1140, -3.0295, -4.1429, -4.5428,\n",
    "         -1.7849, -3.7546],\n",
    "        [-6.9130, -6.1574, -5.1072, -7.9082, -0.0663, -5.5865, -6.3062, -5.3255,\n",
    "         -3.1807, -5.9417],\n",
    "        [-3.2849, -5.1939, -6.0443, -5.0681, -3.8887, -0.6889, -3.1035, -6.6377,\n",
    "         -0.9809, -5.3940],\n",
    "        [-2.9443, -5.0553, -1.6064, -5.4655, -0.7705, -4.6463, -2.1422, -5.4289,\n",
    "         -1.9875, -5.3087]])\n",
    "label = torch.Tensor([1, 2, 3, 4, 5, 6, 7, 8, 9, 0, 1, 2, 3, 4, 5, 6])\n",
    "\n",
    "plt.title(f\"{label.cpu().numpy()}\")\n",
    "plt.imshow(image_tensor[:,:].cpu().numpy())\n",
    "plt.show()\n",
    "\n"
   ]
  },
  {
   "cell_type": "code",
   "execution_count": null,
   "id": "fd2315d0",
   "metadata": {},
   "outputs": [
    {
     "ename": "IndexError",
     "evalue": "Dimension out of range (expected to be in range of [-1, 0], but got 1)",
     "output_type": "error",
     "traceback": [
      "\u001b[1;31m---------------------------------------------------------------------------\u001b[0m",
      "\u001b[1;31mIndexError\u001b[0m                                Traceback (most recent call last)",
      "Cell \u001b[1;32mIn[21], line 2\u001b[0m\n\u001b[0;32m      1\u001b[0m \u001b[38;5;28;01mfor\u001b[39;00m X, y \u001b[38;5;129;01min\u001b[39;00m train_dataloader:\n\u001b[1;32m----> 2\u001b[0m     plt\u001b[38;5;241m.\u001b[39mtitle(\u001b[38;5;124mf\u001b[39m\u001b[38;5;124m\"\u001b[39m\u001b[38;5;132;01m{\u001b[39;00m\u001b[43my\u001b[49m\u001b[38;5;241;43m.\u001b[39;49m\u001b[43margmax\u001b[49m\u001b[43m(\u001b[49m\u001b[38;5;241;43m1\u001b[39;49m\u001b[43m)\u001b[49m[\u001b[38;5;241m0\u001b[39m]\u001b[38;5;132;01m}\u001b[39;00m\u001b[38;5;124m\"\u001b[39m)\n\u001b[0;32m      3\u001b[0m     plt\u001b[38;5;241m.\u001b[39mimshow(X[\u001b[38;5;241m0\u001b[39m,:,:], cmap\u001b[38;5;241m=\u001b[39m\u001b[38;5;124m\"\u001b[39m\u001b[38;5;124mgray\u001b[39m\u001b[38;5;124m\"\u001b[39m)\n",
      "\u001b[1;31mIndexError\u001b[0m: Dimension out of range (expected to be in range of [-1, 0], but got 1)"
     ]
    }
   ],
   "source": [
    "for X, y in train_dataloader:\n",
    "    plt.title(f\"{y.argmax(1)[0]}\")\n",
    "    plt.imshow(X[0,:,:], cmap=\"gray\")"
   ]
  },
  {
   "cell_type": "code",
   "execution_count": 16,
   "id": "faf46361",
   "metadata": {},
   "outputs": [
    {
     "data": {
      "image/png": "[encoded data removed]",
      "text/plain": [
       "<Figure size 640x480 with 1 Axes>"
      ]
     },
     "metadata": {},
     "output_type": "display_data"
    }
   ],
   "source": [
    "for X, y in train_dataloader:\n",
    "    plt.title(f\"{y[0]}\")\n",
    "    plt.imshow(X.squeeze().detach().cpu().numpy()[0,:,:], cmap=\"gray\")"
   ]
  }
 ],
 "metadata": {
  "kernelspec": {
   "display_name": "Python 3 (ipykernel)",
   "language": "python",
   "name": "python3"
  },
  "language_info": {
   "codemirror_mode": {
    "name": "ipython",
    "version": 3
   },
   "file_extension": ".py",
   "mimetype": "text/x-python",
   "name": "python",
   "nbconvert_exporter": "python",
   "pygments_lexer": "ipython3",
   "version": "3.12.1"
  }
 },
 "nbformat": 4,
 "nbformat_minor": 5
}
